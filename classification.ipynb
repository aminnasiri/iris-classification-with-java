{
 "cells": [
  {
   "cell_type": "code",
   "execution_count": 34,
   "id": "3d535405-6d65-4063-953a-8cc4e9a3a287",
   "metadata": {},
   "outputs": [],
   "source": [
    "%maven org.tribuo:tribuo-all:4.1.0"
   ]
  },
  {
   "cell_type": "code",
   "execution_count": 61,
   "id": "951f49cb-1067-4ee9-aa72-b2c4e5f6587c",
   "metadata": {},
   "outputs": [],
   "source": [
    "%maven com.fasterxml.jackson.core:jackson-databind:2.12.5"
   ]
  },
  {
   "cell_type": "code",
   "execution_count": 62,
   "id": "94cbcb79-6a3a-4203-90c9-23f64799b94c",
   "metadata": {},
   "outputs": [],
   "source": [
    "%maven com.fasterxml.jackson.core:jackson-core:2.12.5"
   ]
  },
  {
   "cell_type": "code",
   "execution_count": 63,
   "id": "4d87ef8c-0f68-4c8b-a36f-9e7f972ab87c",
   "metadata": {},
   "outputs": [],
   "source": [
    "%maven com.fasterxml.jackson.core:jackson-annotations:2.12.5"
   ]
  },
  {
   "cell_type": "code",
   "execution_count": 38,
   "id": "2edd0124-c1c1-4436-b793-57a628d0a225",
   "metadata": {},
   "outputs": [],
   "source": [
    "import java.nio.file.Paths;\n",
    "import java.nio.file.Files;"
   ]
  },
  {
   "cell_type": "code",
   "execution_count": 39,
   "id": "79f0f06c-411f-4e5d-b421-11ae61551e07",
   "metadata": {},
   "outputs": [],
   "source": [
    "import org.tribuo.*;\n",
    "import org.tribuo.evaluation.TrainTestSplitter;\n",
    "import org.tribuo.data.csv.CSVLoader;\n",
    "import org.tribuo.classification.*;\n",
    "import org.tribuo.classification.evaluation.*;\n",
    "import org.tribuo.classification.sgd.linear.LogisticRegressionTrainer;"
   ]
  },
  {
   "cell_type": "code",
   "execution_count": 40,
   "id": "b9629b2b-ac43-40f1-a2d7-a0daa72acc64",
   "metadata": {},
   "outputs": [],
   "source": [
    "import com.oracle.labs.mlrg.olcut.provenance.ProvenanceUtil;\n",
    "import com.oracle.labs.mlrg.olcut.config.json.*;"
   ]
  },
  {
   "cell_type": "code",
   "execution_count": 42,
   "id": "f5edb4a2-a8d3-488e-ac89-df5bb9372a8e",
   "metadata": {},
   "outputs": [],
   "source": [
    "var labelFactory = new LabelFactory();\n",
    "var csvLoader = new CSVLoader<>(labelFactory);"
   ]
  },
  {
   "cell_type": "code",
   "execution_count": 46,
   "id": "430b8403-42ac-46b7-a7cb-799c1ed29b31",
   "metadata": {},
   "outputs": [],
   "source": [
    "var irisHeaders = new String[]{\"sepalLength\", \"sepalWidth\", \"petalLength\", \"petalWidth\", \"species\"};\n",
    "var irisesSource = csvLoader.loadDataSource(Paths.get(\"/Users/amin/test/bezdekIris.data\"),\"species\", irisHeaders);\n",
    "var irisSplitter = new TrainTestSplitter<>(irisesSource, 0.7, 1L);"
   ]
  },
  {
   "cell_type": "code",
   "execution_count": 47,
   "id": "2fe728cf-6a20-4e21-802b-1ccb5c66d7c8",
   "metadata": {},
   "outputs": [],
   "source": [
    "var trainingDataset = new MutableDataset<>(irisSplitter.getTrain());\n",
    "var testingDataset = new MutableDataset<>(irisSplitter.getTest());"
   ]
  },
  {
   "cell_type": "code",
   "execution_count": 48,
   "id": "fd597d00-725b-47ab-be4c-6f77e57d88ba",
   "metadata": {},
   "outputs": [
    {
     "name": "stdout",
     "output_type": "stream",
     "text": [
      "Training data size = 105, number of features = 4, number of classes = 3\n"
     ]
    }
   ],
   "source": [
    "System.out.println(String.format(\"Training data size = %d, number of features = %d, number of classes = %d\",trainingDataset.size(),trainingDataset.getFeatureMap().size(),trainingDataset.getOutputInfo().size()));"
   ]
  },
  {
   "cell_type": "code",
   "execution_count": 49,
   "id": "b2f7d1b7-a544-4750-a8bf-7b1e7e3e0bfd",
   "metadata": {},
   "outputs": [
    {
     "name": "stdout",
     "output_type": "stream",
     "text": [
      "Testing data size = 45, number of features = 4, number of classes = 3\n"
     ]
    }
   ],
   "source": [
    "System.out.println(String.format(\"Testing data size = %d, number of features = %d, number of classes = %d\",testingDataset.size(),testingDataset.getFeatureMap().size(),testingDataset.getOutputInfo().size()));"
   ]
  },
  {
   "cell_type": "code",
   "execution_count": 51,
   "id": "13de2066-1051-43d1-8d82-b96cbaf02665",
   "metadata": {},
   "outputs": [
    {
     "name": "stdout",
     "output_type": "stream",
     "text": [
      "LinearSGDTrainer(objective=LogMulticlass,optimiser=AdaGrad(initialLearningRate=1.0,epsilon=0.1,initialValue=0.0),epochs=5,minibatchSize=1,seed=12345)\n"
     ]
    }
   ],
   "source": [
    "Trainer<Label> trainer = new LogisticRegressionTrainer();\n",
    "System.out.println(trainer.toString());"
   ]
  },
  {
   "cell_type": "code",
   "execution_count": 52,
   "id": "2e21ab1a-d61a-4a19-85f1-7befab81af69",
   "metadata": {},
   "outputs": [],
   "source": [
    "Model<Label> irisModel = trainer.train(trainingDataset);"
   ]
  },
  {
   "cell_type": "code",
   "execution_count": 53,
   "id": "9a654f34-5d06-4ce0-b5da-cefb22eaf4f5",
   "metadata": {},
   "outputs": [
    {
     "name": "stdout",
     "output_type": "stream",
     "text": [
      "Class                           n          tp          fn          fp      recall        prec          f1\n",
      "Iris-versicolor                16          16           0           1       1.000       0.941       0.970\n",
      "Iris-virginica                 15          14           1           0       0.933       1.000       0.966\n",
      "Iris-setosa                    14          14           0           0       1.000       1.000       1.000\n",
      "Total                          45          44           1           1\n",
      "Accuracy                                                                    0.978\n",
      "Micro Average                                                               0.978       0.978       0.978\n",
      "Macro Average                                                               0.978       0.980       0.978\n",
      "Balanced Error Rate                                                         0.022\n"
     ]
    }
   ],
   "source": [
    "var evaluator = new LabelEvaluator();\n",
    "var evaluation = evaluator.evaluate(irisModel,testingDataset);\n",
    "System.out.println(evaluation.toString());"
   ]
  },
  {
   "cell_type": "code",
   "execution_count": 54,
   "id": "38fa195f-f055-463c-9fd2-822fe05dda62",
   "metadata": {},
   "outputs": [
    {
     "name": "stdout",
     "output_type": "stream",
     "text": [
      "                   Iris-versicolor   Iris-virginica      Iris-setosa\n",
      "Iris-versicolor                 16                0                0\n",
      "Iris-virginica                   1               14                0\n",
      "Iris-setosa                      0                0               14\n",
      "\n"
     ]
    }
   ],
   "source": [
    "System.out.println(evaluation.getConfusionMatrix().toString());"
   ]
  },
  {
   "cell_type": "code",
   "execution_count": 55,
   "id": "2f0baf6b-b2a9-4bed-9d05-24d5ab747a49",
   "metadata": {},
   "outputs": [
    {
     "name": "stdout",
     "output_type": "stream",
     "text": [
      "CategoricalFeature(name=petalLength,id=0,count=105,map={1.2=1, 6.9=1, 3.6=1, 3.0=1, 1.7=4, 4.9=4, 4.4=3, 3.5=2, 5.9=2, 5.4=1, 4.0=4, 1.4=12, 4.5=4, 5.0=2, 5.5=3, 6.7=2, 3.7=1, 1.9=1, 6.0=2, 5.2=1, 5.7=2, 4.2=2, 4.7=2, 4.8=4, 1.6=4, 5.8=2, 3.8=1, 6.3=1, 3.3=1, 1.0=1, 5.6=4, 5.1=5, 4.6=3, 4.1=2, 1.5=9, 1.3=4, 3.9=3, 6.6=1, 6.1=2})\n",
      "\n",
      "CategoricalFeature(name=petalWidth,id=1,count=105,map={2.0=3, 0.5=1, 1.2=3, 0.3=6, 1.6=2, 0.1=3, 0.4=5, 2.5=3, 2.3=4, 1.7=2, 1.1=3, 2.1=4, 0.6=1, 1.4=6, 1.0=5, 2.4=1, 1.8=12, 0.2=20, 1.9=4, 1.5=7, 1.3=8, 2.2=2})\n",
      "\n",
      "CategoricalFeature(name=sepalLength,id=2,count=105,map={6.9=3, 6.4=3, 7.4=1, 4.9=4, 4.4=1, 5.9=3, 5.4=5, 7.2=3, 7.7=3, 5.0=8, 6.2=2, 5.5=5, 6.7=7, 6.0=3, 5.2=2, 6.5=3, 5.7=4, 4.7=2, 4.8=3, 5.8=4, 5.3=1, 6.8=3, 6.3=5, 7.3=1, 5.6=6, 5.1=7, 4.6=4, 7.6=1, 7.1=1, 6.6=2, 6.1=5})\n",
      "\n",
      "CategoricalFeature(name=sepalWidth,id=3,count=105,map={2.0=1, 2.8=10, 3.6=4, 2.3=3, 2.5=5, 3.1=8, 3.8=4, 3.0=19, 2.6=4, 4.4=1, 3.3=4, 3.5=4, 2.4=2, 3.2=10, 2.9=5, 3.7=3, 3.4=6, 2.2=2, 3.9=2, 4.2=1, 2.7=7})\n",
      "\n"
     ]
    }
   ],
   "source": [
    "var featureMap = irisModel.getFeatureIDMap();\n",
    "for (var v : featureMap) {\n",
    "    System.out.println(v.toString());\n",
    "    System.out.println();\n",
    "}"
   ]
  },
  {
   "cell_type": "code",
   "execution_count": 56,
   "id": "a8397e50-252c-42b8-96e7-9a6c6521927e",
   "metadata": {},
   "outputs": [
    {
     "name": "stdout",
     "output_type": "stream",
     "text": [
      "TrainTestSplitter(\n",
      "\tclass-name = org.tribuo.evaluation.TrainTestSplitter\n",
      "\tsource = CSVLoader(\n",
      "\t\t\tclass-name = org.tribuo.data.csv.CSVLoader\n",
      "\t\t\toutputFactory = LabelFactory(\n",
      "\t\t\t\t\tclass-name = org.tribuo.classification.LabelFactory\n",
      "\t\t\t\t)\n",
      "\t\t\tresponse-name = species\n",
      "\t\t\tseparator = ,\n",
      "\t\t\tquote = \"\n",
      "\t\t\tpath = file:/Users/amin/test/bezdekIris.data\n",
      "\t\t\tfile-modified-time = 2021-09-03T20:17:57.772-07:00\n",
      "\t\t\tresource-hash = 0FED2A99DB77EC533A62DC66894D3EC6DF3B58B6A8F3CF4A6B47E4086B7F97DC\n",
      "\t\t)\n",
      "\ttrain-proportion = 0.7\n",
      "\tseed = 1\n",
      "\tsize = 150\n",
      "\tis-train = true\n",
      ")\n"
     ]
    }
   ],
   "source": [
    "var provenance = irisModel.getProvenance();\n",
    "System.out.println(ProvenanceUtil.formattedProvenanceString(provenance.getDatasetProvenance().getSourceProvenance()));"
   ]
  },
  {
   "cell_type": "code",
   "execution_count": 57,
   "id": "d1d7199f-e8c5-4415-a2cf-e6967673e5d8",
   "metadata": {},
   "outputs": [
    {
     "name": "stdout",
     "output_type": "stream",
     "text": [
      "LogisticRegressionTrainer(\n",
      "\tclass-name = org.tribuo.classification.sgd.linear.LogisticRegressionTrainer\n",
      "\tseed = 12345\n",
      "\tminibatchSize = 1\n",
      "\tshuffle = true\n",
      "\tepochs = 5\n",
      "\toptimiser = AdaGrad(\n",
      "\t\t\tclass-name = org.tribuo.math.optimisers.AdaGrad\n",
      "\t\t\tepsilon = 0.1\n",
      "\t\t\tinitialLearningRate = 1.0\n",
      "\t\t\tinitialValue = 0.0\n",
      "\t\t\thost-short-name = StochasticGradientOptimiser\n",
      "\t\t)\n",
      "\tloggingInterval = 1000\n",
      "\tobjective = LogMulticlass(\n",
      "\t\t\tclass-name = org.tribuo.classification.sgd.objectives.LogMulticlass\n",
      "\t\t\thost-short-name = LabelObjective\n",
      "\t\t)\n",
      "\ttribuo-version = 4.1.0\n",
      "\ttrain-invocation-count = 0\n",
      "\tis-sequence = false\n",
      "\thost-short-name = Trainer\n",
      ")\n"
     ]
    }
   ],
   "source": [
    "System.out.println(ProvenanceUtil.formattedProvenanceString(provenance.getTrainerProvenance()));"
   ]
  },
  {
   "cell_type": "code",
   "execution_count": 58,
   "id": "d10ccd15-9e40-495b-8d02-0ab36484295d",
   "metadata": {},
   "outputs": [
    {
     "name": "stdout",
     "output_type": "stream",
     "text": [
      "{tribuo-version=4.1.0, dataset-provenance={num-features=4, num-examples=45, num-outputs=3, tribuo-version=4.1.0, datasource={train-proportion=0.7, seed=1, size=150, source={resource-hash=0FED2A99DB77EC533A62DC66894D3EC6DF3B58B6A8F3CF4A6B47E4086B7F97DC, path=file:/Users/amin/test/bezdekIris.data, file-modified-time=2021-09-03T20:17:57.772-07:00, quote=\", response-name=species, outputFactory={class-name=org.tribuo.classification.LabelFactory}, separator=,, class-name=org.tribuo.data.csv.CSVLoader}, class-name=org.tribuo.evaluation.TrainTestSplitter, is-train=false}, transformations=[], is-sequence=false, is-dense=true, class-name=org.tribuo.MutableDataset}, class-name=org.tribuo.provenance.EvaluationProvenance, model-provenance={instance-values={}, tribuo-version=4.1.0, java-version=11.0.12, trainer={seed=12345, tribuo-version=4.1.0, minibatchSize=1, train-invocation-count=0, is-sequence=false, shuffle=true, epochs=5, optimiser={epsilon=0.1, initialLearningRate=1.0, initialValue=0.0, host-short-name=StochasticGradientOptimiser, class-name=org.tribuo.math.optimisers.AdaGrad}, host-short-name=Trainer, class-name=org.tribuo.classification.sgd.linear.LogisticRegressionTrainer, loggingInterval=1000, objective={host-short-name=LabelObjective, class-name=org.tribuo.classification.sgd.objectives.LogMulticlass}}, os-arch=x86_64, trained-at=2021-09-03T20:57:34.494302-07:00, os-name=Mac OS X, dataset={num-features=4, num-examples=105, num-outputs=3, tribuo-version=4.1.0, datasource={train-proportion=0.7, seed=1, size=150, source={resource-hash=0FED2A99DB77EC533A62DC66894D3EC6DF3B58B6A8F3CF4A6B47E4086B7F97DC, path=file:/Users/amin/test/bezdekIris.data, file-modified-time=2021-09-03T20:17:57.772-07:00, quote=\", response-name=species, outputFactory={class-name=org.tribuo.classification.LabelFactory}, separator=,, class-name=org.tribuo.data.csv.CSVLoader}, class-name=org.tribuo.evaluation.TrainTestSplitter, is-train=true}, transformations=[], is-sequence=false, is-dense=true, class-name=org.tribuo.MutableDataset}, class-name=org.tribuo.classification.sgd.linear.LinearSGDModel}}\n"
     ]
    }
   ],
   "source": [
    "System.out.println(ProvenanceUtil.convertToMap(evaluation.getProvenance()));"
   ]
  },
  {
   "cell_type": "code",
   "execution_count": 64,
   "id": "eb85856c-ac2b-4777-9fd4-4d68ed339519",
   "metadata": {},
   "outputs": [
    {
     "ename": "CompilationException",
     "evalue": "",
     "output_type": "error",
     "traceback": [
      "\u001b[1m\u001b[30m|   \u001b[1m\u001b[30m\u001b[0m\u001b[1m\u001b[30m\u001b[41m\u001b[0m\u001b[1m\u001b[30mimport com.fasterxml.jackson.databind.*;\u001b[0m",
      "\u001b[1m\u001b[31mpackage com.fasterxml.jackson.databind does not exist\u001b[0m",
      ""
     ]
    }
   ],
   "source": [
    "import com.fasterxml.jackson.databind.*;"
   ]
  },
  {
   "cell_type": "code",
   "execution_count": 69,
   "id": "cb0a124b-829f-4d8b-8fdf-61813f739870",
   "metadata": {},
   "outputs": [],
   "source": [
    "File tmpFile = File.createTempFile(\"irisModel\",\"ser\");\n",
    "try (ObjectOutputStream oos = new ObjectOutputStream(new FileOutputStream(tmpFile))) {\n",
    "    oos.writeObject(irisModel);\n",
    "}"
   ]
  },
  {
   "cell_type": "code",
   "execution_count": 68,
   "id": "29f2b797-0d8e-4b1c-ae39-a85353430f7d",
   "metadata": {},
   "outputs": [
    {
     "ename": "EvalException",
     "evalue": "./jep-290-allowlist.txt",
     "output_type": "error",
     "traceback": [
      "\u001b[1m\u001b[31m---------------------------------------------------------------------------\u001b[0m",
      "\u001b[1m\u001b[31mjava.nio.file.NoSuchFileException: ./jep-290-allowlist.txt\u001b[0m",
      "\u001b[1m\u001b[31m\tat java.base/sun.nio.fs.UnixException.translateToIOException(UnixException.java:92)\u001b[0m",
      "\u001b[1m\u001b[31m\tat java.base/sun.nio.fs.UnixException.rethrowAsIOException(UnixException.java:111)\u001b[0m",
      "\u001b[1m\u001b[31m\tat java.base/sun.nio.fs.UnixException.rethrowAsIOException(UnixException.java:116)\u001b[0m",
      "\u001b[1m\u001b[31m\tat java.base/sun.nio.fs.UnixFileSystemProvider.newByteChannel(UnixFileSystemProvider.java:219)\u001b[0m",
      "\u001b[1m\u001b[31m\tat java.base/java.nio.file.Files.newByteChannel(Files.java:371)\u001b[0m",
      "\u001b[1m\u001b[31m\tat java.base/java.nio.file.Files.newByteChannel(Files.java:422)\u001b[0m",
      "\u001b[1m\u001b[31m\tat java.base/java.nio.file.spi.FileSystemProvider.newInputStream(FileSystemProvider.java:420)\u001b[0m",
      "\u001b[1m\u001b[31m\tat java.base/java.nio.file.Files.newInputStream(Files.java:156)\u001b[0m",
      "\u001b[1m\u001b[31m\tat java.base/java.nio.file.Files.newBufferedReader(Files.java:2839)\u001b[0m",
      "\u001b[1m\u001b[31m\tat java.base/java.nio.file.Files.readAllLines(Files.java:3330)\u001b[0m",
      "\u001b[1m\u001b[31m\tat java.base/java.nio.file.Files.readAllLines(Files.java:3370)\u001b[0m",
      "\u001b[1m\u001b[31m\tat .(#108:1)\u001b[0m"
     ]
    }
   ],
   "source": [
    "String filterPattern = Files.readAllLines(Paths.get(\"./jep-290-allowlist.txt\")).get(0);\n",
    "ObjectInputFilter filter = ObjectInputFilter.Config.createFilter(filterPattern);\n",
    "Model<?> loadedModel;\n",
    "try (ObjectInputStream ois = new ObjectInputStream(new BufferedInputStream(new FileInputStream(tmpFile)))) {\n",
    "    ois.setObjectInputFilter(filter);\n",
    "    loadedModel = (Model<?>) ois.readObject();\n",
    "}"
   ]
  },
  {
   "cell_type": "code",
   "execution_count": null,
   "id": "4d3e1945-f02c-4c5c-b2b5-71de265aaeb5",
   "metadata": {},
   "outputs": [],
   "source": []
  }
 ],
 "metadata": {
  "kernelspec": {
   "display_name": "Java",
   "language": "java",
   "name": "java"
  },
  "language_info": {
   "codemirror_mode": "java",
   "file_extension": ".jshell",
   "mimetype": "text/x-java-source",
   "name": "Java",
   "pygments_lexer": "java",
   "version": "11.0.12+6-jvmci-21.2-b08"
  }
 },
 "nbformat": 4,
 "nbformat_minor": 5
}
